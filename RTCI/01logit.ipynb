{
 "cells": [
  {
   "cell_type": "code",
   "execution_count": 1,
   "metadata": {},
   "outputs": [],
   "source": [
    "from headers import *"
   ]
  },
  {
   "cell_type": "code",
   "execution_count": 2,
   "metadata": {},
   "outputs": [],
   "source": [
    "import pandas as pd\n",
    "import biogeme.database as db\n",
    "import biogeme.biogeme as bio"
   ]
  },
  {
   "cell_type": "code",
   "execution_count": 3,
   "metadata": {},
   "outputs": [
    {
     "name": "stderr",
     "output_type": "stream",
     "text": [
      "C:\\ProgramData\\Anaconda3\\lib\\site-packages\\ipykernel_launcher.py:1: FutureWarning: read_table is deprecated, use read_csv instead, passing sep='\\t'.\n",
      "  \"\"\"Entry point for launching an IPython kernel.\n"
     ]
    }
   ],
   "source": [
    "df = pd.read_table(\"RTCI_SP_data.dat\")"
   ]
  },
  {
   "cell_type": "code",
   "execution_count": 4,
   "metadata": {},
   "outputs": [],
   "source": [
    "df.drop(df.columns[-1],axis = 1, inplace = True)\n",
    "database = db.Database(\"RTCI_SP_surveys\",df)"
   ]
  },
  {
   "cell_type": "code",
   "execution_count": 5,
   "metadata": {},
   "outputs": [],
   "source": [
    "# coefficients\n",
    "ASC_NOW = Beta('ASC_NOW',0,None,None,1)\n",
    "ASC_WAIT = Beta('ASC_WAIT',0,None,None,0)\n",
    "B_IVT_4 = Beta('BETA_IVT_4',0,None,None,0)\n",
    "B_IVT_3 = Beta('BETA_IVT_3',0,None,None,0)\n",
    "B_IVT_2 = Beta('BETA_IVT_2',0,None,None,0)\n",
    "B_WAIT_WT = Beta('BETA_WAIT_WT',0,None,None,0)"
   ]
  },
  {
   "cell_type": "code",
   "execution_count": 6,
   "metadata": {},
   "outputs": [],
   "source": [
    "# variables\n",
    "NOW_IVT_4 = now_ivt_4\n",
    "NOW_IVT_3 = now_ivt_3\n",
    "WAIT_WT_TIME =  wait_WT\n",
    "WAIT_IVT_3 =  wait_ivt_3\n",
    "WAIT_IVT_2 = wait_ivt_2"
   ]
  },
  {
   "cell_type": "markdown",
   "metadata": {},
   "source": [
    "### Pierwszy"
   ]
  },
  {
   "cell_type": "code",
   "execution_count": 7,
   "metadata": {},
   "outputs": [],
   "source": [
    "# utilities\n",
    "V1 = ASC_NOW + \\\n",
    "     B_IVT_4 * NOW_IVT_4 + \\\n",
    "     B_IVT_3 * NOW_IVT_3\n",
    "V2 = ASC_WAIT + \\\n",
    "     B_WAIT_WT * WAIT_WT_TIME + \\\n",
    "     B_IVT_3 * WAIT_IVT_3 + \\\n",
    "     B_IVT_2 * WAIT_IVT_2"
   ]
  },
  {
   "cell_type": "markdown",
   "metadata": {},
   "source": [
    "### Bez stalej"
   ]
  },
  {
   "cell_type": "code",
   "execution_count": 15,
   "metadata": {},
   "outputs": [],
   "source": [
    "# utilities\n",
    "V1 = B_IVT_4 * NOW_IVT_4 + \\\n",
    "     B_IVT_3 * NOW_IVT_3\n",
    "V2 = B_WAIT_WT * WAIT_WT_TIME + \\\n",
    "     B_IVT_3 * WAIT_IVT_3 + \\\n",
    "     B_IVT_2 * WAIT_IVT_2"
   ]
  },
  {
   "cell_type": "code",
   "execution_count": 16,
   "metadata": {},
   "outputs": [],
   "source": [
    "# Associate utility functions with the numbering of alternatives\n",
    "V = {2: V1,\n",
    "     3: V2}"
   ]
  },
  {
   "cell_type": "code",
   "execution_count": 17,
   "metadata": {},
   "outputs": [],
   "source": [
    "# Associate the availability conditions with the alternatives\n",
    "\n",
    "#NOW_AV_SP =  DefineVariable('NOW_AV_SP', 1.0  * (  output_choice   >=  0  ),database)\n",
    "#WAIT_AV_SP =  DefineVariable('WAIT_AV_SP', 1.0  * (  output_choice   >=  0  ),database)\n",
    "\n",
    "\n",
    "av = {2: 1,\n",
    "      3: 1}"
   ]
  },
  {
   "cell_type": "code",
   "execution_count": 18,
   "metadata": {},
   "outputs": [],
   "source": [
    "logprob = bioLogLogit(V,av,output_choice)\n",
    "biogeme  = bio.BIOGEME(database,logprob)\n",
    "biogeme.modelName = \"logit_EDI_1_no_ASC\""
   ]
  },
  {
   "cell_type": "code",
   "execution_count": 19,
   "metadata": {},
   "outputs": [],
   "source": [
    "results = biogeme.estimate()"
   ]
  },
  {
   "cell_type": "code",
   "execution_count": 20,
   "metadata": {},
   "outputs": [
    {
     "name": "stdout",
     "output_type": "stream",
     "text": [
      "BETA_IVT_2=\t0.02\n",
      "BETA_IVT_3=\t0.021\n",
      "BETA_IVT_4=\t-0.041\n",
      "BETA_WAIT_WT=\t-0.149\n",
      "                 Value   Std err     t-test       p-value  Rob. Std err  \\\n",
      "BETA_IVT_2    0.019978  0.002514   7.945984  1.998401e-15      0.002927   \n",
      "BETA_IVT_3    0.021048  0.001638  12.849319  0.000000e+00      0.001815   \n",
      "BETA_IVT_4   -0.041026  0.002666 -15.388910  0.000000e+00      0.003231   \n",
      "BETA_WAIT_WT -0.149018  0.010468 -14.235463  0.000000e+00      0.011189   \n",
      "\n",
      "              Rob. t-test  Rob. p-value  \n",
      "BETA_IVT_2       6.824928  8.796963e-12  \n",
      "BETA_IVT_3      11.595621  0.000000e+00  \n",
      "BETA_IVT_4     -12.697038  0.000000e+00  \n",
      "BETA_WAIT_WT   -13.318755  0.000000e+00  \n"
     ]
    }
   ],
   "source": [
    "# Print the estimated values\n",
    "betas = results.getBetaValues()\n",
    "for k,v in betas.items():\n",
    "    print(f\"{k}=\\t{v:.3g}\")\n",
    "\n",
    "# Get the results in a pandas table\n",
    "pandasResults = results.getEstimatedParameters()\n",
    "print(pandasResults)"
   ]
  },
  {
   "cell_type": "code",
   "execution_count": null,
   "metadata": {},
   "outputs": [],
   "source": []
  },
  {
   "cell_type": "code",
   "execution_count": null,
   "metadata": {},
   "outputs": [],
   "source": []
  },
  {
   "cell_type": "code",
   "execution_count": null,
   "metadata": {},
   "outputs": [],
   "source": [
    "########################################\n",
    "#\n",
    "# @file 01logit.py\n",
    "# @author: Michel Bierlaire, EPFL\n",
    "# @date: Thu Sep  6 15:14:39 2018\n",
    "#\n",
    "# Logit model\n",
    "# Three alternatives: Train, Car and Swissmetro\n",
    "# SP data\n",
    "#\n",
    "#######################################\n",
    "\n",
    "import pandas as pd\n",
    "import biogeme.database as db\n",
    "import biogeme.biogeme as bio\n",
    "\n",
    "pandas = pd.read_table(\"swissmetro.dat\")\n",
    "database = db.Database(\"swissmetro\",pandas)\n",
    "\n",
    "# The Pandas data structure is available as database.data. Use all the\n",
    "# Pandas functions to invesigate the database\n",
    "#print(database.data.describe())\n",
    "\n",
    "from headers import *\n",
    "\n",
    "# Removing some observations can be done directly using pandas.\n",
    "#remove = (((database.data.PURPOSE != 1) & (database.data.PURPOSE != 3)) | (database.data.CHOICE == 0))\n",
    "#database.data.drop(database.data[remove].index,inplace=True)\n",
    "\n",
    "# Here we use the \"biogeme\" way for backward compatibility\n",
    "exclude = (( PURPOSE != 1 ) * (  PURPOSE   !=  3  ) +  ( CHOICE == 0 )) > 0\n",
    "database.remove(exclude)\n",
    "\n",
    "\n",
    "ASC_CAR = Beta('ASC_CAR',0,None,None,0)\n",
    "ASC_TRAIN = Beta('ASC_TRAIN',0,None,None,0)\n",
    "ASC_SM = Beta('ASC_SM',0,None,None,1)\n",
    "B_TIME = Beta('B_TIME',0,None,None,0)\n",
    "B_COST = Beta('B_COST',0,None,None,0)\n",
    "\n",
    "SM_COST =  SM_CO   * (  GA   ==  0  ) \n",
    "TRAIN_COST =  TRAIN_CO   * (  GA   ==  0  )\n",
    "\n",
    "CAR_AV_SP =  DefineVariable('CAR_AV_SP',CAR_AV  * (  SP   !=  0  ),database)\n",
    "TRAIN_AV_SP =  DefineVariable('TRAIN_AV_SP',TRAIN_AV  * (  SP   !=  0  ),database)\n",
    "\n",
    "TRAIN_TT_SCALED = DefineVariable('TRAIN_TT_SCALED',\\\n",
    "                                 TRAIN_TT / 100.0,database)\n",
    "TRAIN_COST_SCALED = DefineVariable('TRAIN_COST_SCALED',\\\n",
    "                                   TRAIN_COST / 100,database)\n",
    "SM_TT_SCALED = DefineVariable('SM_TT_SCALED', SM_TT / 100.0,database)\n",
    "SM_COST_SCALED = DefineVariable('SM_COST_SCALED', SM_COST / 100,database)\n",
    "CAR_TT_SCALED = DefineVariable('CAR_TT_SCALED', CAR_TT / 100,database)\n",
    "CAR_CO_SCALED = DefineVariable('CAR_CO_SCALED', CAR_CO / 100,database)\n",
    "\n",
    "V1 = ASC_TRAIN + \\\n",
    "     B_TIME * TRAIN_TT_SCALED + \\\n",
    "     B_COST * TRAIN_COST_SCALED\n",
    "V2 = ASC_SM + \\\n",
    "     B_TIME * SM_TT_SCALED + \\\n",
    "     B_COST * SM_COST_SCALED\n",
    "V3 = ASC_CAR + \\\n",
    "     B_TIME * CAR_TT_SCALED + \\\n",
    "     B_COST * CAR_CO_SCALED\n",
    "\n",
    "# Associate utility functions with the numbering of alternatives\n",
    "V = {1: V1,\n",
    "     2: V2,\n",
    "     3: V3}\n",
    "\n",
    "# Associate the availability conditions with the alternatives\n",
    "\n",
    "av = {1: TRAIN_AV_SP,\n",
    "      2: SM_AV,\n",
    "      3: CAR_AV_SP}\n",
    "\n",
    "logprob = bioLogLogit(V,av,CHOICE)\n",
    "biogeme  = bio.BIOGEME(database,logprob)\n",
    "biogeme.modelName = \"01logit\"\n",
    "results = biogeme.estimate()\n",
    "\n",
    "# Print the estimated values\n",
    "betas = results.getBetaValues()\n",
    "for k,v in betas.items():\n",
    "    print(f\"{k}=\\t{v:.3g}\")\n",
    "\n",
    "# Get the results in a pandas table\n",
    "pandasResults = results.getEstimatedParameters()\n",
    "print(pandasResults)\n"
   ]
  }
 ],
 "metadata": {
  "kernelspec": {
   "display_name": "Python 3",
   "language": "python",
   "name": "python3"
  },
  "language_info": {
   "codemirror_mode": {
    "name": "ipython",
    "version": 3
   },
   "file_extension": ".py",
   "mimetype": "text/x-python",
   "name": "python",
   "nbconvert_exporter": "python",
   "pygments_lexer": "ipython3",
   "version": "3.7.3"
  }
 },
 "nbformat": 4,
 "nbformat_minor": 2
}
